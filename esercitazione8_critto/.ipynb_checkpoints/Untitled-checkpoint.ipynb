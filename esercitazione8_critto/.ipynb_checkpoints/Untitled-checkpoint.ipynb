{
 "cells": [
  {
   "cell_type": "code",
   "execution_count": 2,
   "id": "99cfe1b9-d38a-4ab4-a0c4-02113b25a04a",
   "metadata": {},
   "outputs": [
    {
     "name": "stdout",
     "output_type": "stream",
     "text": [
      "L'hash SHA256 è: 8763cb27ecbd21be7c4d743cc01975c0e96b494d045076a10ecdb539904e7eeb\n"
     ]
    }
   ],
   "source": [
    "# import lib\n",
    "from Crypto.Hash import SHA256\n",
    "\n",
    "FILENAME = \"test_file.txt\"\n",
    "\n",
    "hash_object = SHA256.new() # Inizializza l'oggetto hash SHA256\n",
    "\n",
    "with open(FILENAME, \"rb\") as f_input:\n",
    "    file_content = f_input.read()\n",
    "\n",
    "hash_object.update(file_content)\n",
    "\n",
    "hash_digest = hash_object.hexdigest()\n",
    "\n",
    "print(f\"L'hash SHA256 è: {hash_digest}\")"
   ]
  }
 ],
 "metadata": {
  "kernelspec": {
   "display_name": "Python 3 (ipykernel)",
   "language": "python",
   "name": "python3"
  },
  "language_info": {
   "codemirror_mode": {
    "name": "ipython",
    "version": 3
   },
   "file_extension": ".py",
   "mimetype": "text/x-python",
   "name": "python",
   "nbconvert_exporter": "python",
   "pygments_lexer": "ipython3",
   "version": "3.12.1"
  }
 },
 "nbformat": 4,
 "nbformat_minor": 5
}
