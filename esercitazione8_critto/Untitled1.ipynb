{
 "cells": [
  {
   "cell_type": "code",
   "execution_count": 1,
   "id": "a0157685-96ee-445e-bf58-4bb960b5a776",
   "metadata": {},
   "outputs": [
    {
     "name": "stdout",
     "output_type": "stream",
     "text": [
      "Nonce utilizzato: 4369616f4369616f\n",
      "Chiave utilizzata: 717565737461206368696176652065272070726f7072696f2073696375726121\n",
      "Testo cifrato (Base64): OKx7Cl067lFWiqYMS4zmMNfzbrsrEo4Dhgt96srvQm+ohg==\n",
      "Messaggio originale decifrato: ARS e' il corso migliore di tutti!\n"
     ]
    }
   ],
   "source": [
    "from Crypto.Cipher import ChaCha20\n",
    "from Crypto.Random import get_random_bytes\n",
    "from base64 import b64encode, b64decode\n",
    "\n",
    "# Dati forniti\n",
    "nonce = b\"CiaoCiao\" # Nonce di 8 bytes (64 bit)\n",
    "key = b\"questa chiave e' proprio sicura!\" # Chiave di 32 bytes (256 bit)\n",
    "ciphertext_b64 = b'OKx7Cl067lFWiqYMS4zmMNfzbrsrEo4Dhgt96srvQm+ohg=='\n",
    "ciphertext = b64decode(ciphertext_b64) # Testo cifrato in formato binario\n",
    "\n",
    "# 1. Crea un oggetto cifrario ChaCha20 per la decifratura\n",
    "# Per decifrare, usi la stessa chiave e lo stesso nonce che sono stati usati per cifrare.\n",
    "cipher = ChaCha20.new(key=key, nonce=nonce)\n",
    "\n",
    "# 2. Decifra il ciphertext\n",
    "# Il metodo decrypt funziona sia per cifrare che per decifrare nei cifrari a flusso\n",
    "plaintext_bytes = cipher.decrypt(ciphertext)\n",
    "\n",
    "# 3. Decodifica il messaggio originale da bytes a stringa leggibile (se era testo)\n",
    "original_message = plaintext_bytes.decode('utf-8')\n",
    "\n",
    "print(f\"Nonce utilizzato: {nonce.hex()}\")\n",
    "print(f\"Chiave utilizzata: {key.hex()}\")\n",
    "print(f\"Testo cifrato (Base64): {ciphertext_b64.decode()}\")\n",
    "print(f\"Messaggio originale decifrato: {original_message}\")"
   ]
  },
  {
   "cell_type": "code",
   "execution_count": null,
   "id": "55b21543-9fbc-491d-a7e8-73847ac652dc",
   "metadata": {},
   "outputs": [],
   "source": []
  }
 ],
 "metadata": {
  "kernelspec": {
   "display_name": "Python 3 (ipykernel)",
   "language": "python",
   "name": "python3"
  },
  "language_info": {
   "codemirror_mode": {
    "name": "ipython",
    "version": 3
   },
   "file_extension": ".py",
   "mimetype": "text/x-python",
   "name": "python",
   "nbconvert_exporter": "python",
   "pygments_lexer": "ipython3",
   "version": "3.12.1"
  }
 },
 "nbformat": 4,
 "nbformat_minor": 5
}
