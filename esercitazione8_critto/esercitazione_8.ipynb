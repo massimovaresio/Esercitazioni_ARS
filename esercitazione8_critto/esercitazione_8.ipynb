{
 "cells": [
  {
   "cell_type": "markdown",
   "id": "defb0b09-597a-408e-a481-5552fb2ba935",
   "metadata": {},
   "source": [
    "# Esercitazione 8 - Crittografia con Python\n",
    "\n",
    "## Obiettivo\n",
    "\n",
    "Utilizzare la libreria [Pycryptodome](https://www.pycryptodome.org/) per implementare semplici protocolli crittografici con Python.\n",
    "\n",
    "## Strumenti\n",
    "\n",
    "- Python\n",
    "- Libreria Pycryptodome (per l'installazione: `pip install pycryptodome`)\n",
    "- Jupyter (opzionale)\n",
    "\n",
    "## Esercizi\n",
    "\n",
    "### 1. Hash di un file\n",
    "\n",
    "Completare il seguente blocco di codice per calcolare l'hash con l'algoritmo SHA256 di un file a scelta; verificare il risultato con il comando `certutil -hashfile <NOMEFILE> SHA256` (Windows) oppure con `sha256sum <NOMEFILE>` (Linux/MacOS). "
   ]
  },
  {
   "cell_type": "code",
   "execution_count": null,
   "id": "eb54bb2a-4f23-4681-9d86-5562647bb45d",
   "metadata": {},
   "outputs": [],
   "source": [
    "# import lib\n",
    "\n",
    "hash_digest = # ???\n",
    "\n",
    "with open(FILENAME, \"rb\") as f_input:\n",
    "    # ???\n",
    "\n",
    "print(\"???\")"
   ]
  },
  {
   "cell_type": "markdown",
   "id": "13a33294-bd6d-4a50-8f0b-3098229de296",
   "metadata": {},
   "source": [
    "### 2. Cifrari di tipo Stream\n",
    "\n",
    "Il cifrario [ChaCha20](https://en.wikipedia.org/wiki/Salsa20#ChaCha_variant) è una variante dello stream cipher Salsa20. L'algoritmo di cifratura utilizza un nonce da 64 bit e una chiave da 256 bit. Conoscendo il nonce, la chiave e il ciphertext, siete in grado di ottenere il messaggio originale? Qual è il significato del nonce?"
   ]
  },
  {
   "cell_type": "code",
   "execution_count": 29,
   "id": "c6e04129-ee0c-4784-a8ac-2b3816e335b8",
   "metadata": {},
   "outputs": [],
   "source": [
    "from Crypto.Cipher import ChaCha20\n",
    "from Crypto.Random import get_random_bytes\n",
    "from base64 import b64encode, b64decode\n",
    "\n",
    "nonce = b\"CiaoCiao\"\n",
    "key = b\"questa chiave e' proprio sicura!\"\n",
    "ciphertext_b64 = b'OKx7Cl067lFWiqYMS4zmMNfzbrsrEo4Dhgt96srvQm+ohg=='\n",
    "ciphertext = b64decode(ciphertext_b64)"
   ]
  },
  {
   "cell_type": "markdown",
   "id": "19c131f1-4dd9-493d-92dc-f4237124e94c",
   "metadata": {},
   "source": [
    "### 3. AEAD\n",
    "\n",
    "L'algoritmo AEAD (Authenticated Encryption with Associated Data) viene utilizzato per fornire proprietà di confidenzialità e autenticazione/integrità. \n",
    "\n",
    "Utilizzando la modalità `AES.MODE_GCM` (operazioni su un campo di Galois), e sfruttando la documentazione per la funzione `encrypt_and_digest`, provare ad implementare un algoritmo di cifratura dei dati con verifica dell'integrità e autenticazione."
   ]
  },
  {
   "cell_type": "code",
   "execution_count": null,
   "id": "a581bac5-d7c0-40a4-b9c4-7f81c306799d",
   "metadata": {},
   "outputs": [],
   "source": [
    "from Crypto.Random import get_random_bytes\n",
    "from Crypto.Cipher import AES\n",
    "from base64 import b64encode, b64decode\n",
    "\n",
    "auth_data = b\"this is the header (authentication data)\"\n",
    "confidential_data = b\"this is the secret part!\"\n",
    "\n",
    "# completare"
   ]
  },
  {
   "cell_type": "markdown",
   "id": "5c0bf13d-f52d-42a2-9b3d-7a35a26b28c3",
   "metadata": {},
   "source": [
    "### What next?\n",
    "\n",
    "Sul sito <https://cryptopals.com/> sono disponibili sfide di difficoltà crescente legate al mondo della crittografia. Provate a risolverne qualcuna. "
   ]
  }
 ],
 "metadata": {
  "kernelspec": {
   "display_name": "Python 3 (ipykernel)",
   "language": "python",
   "name": "python3"
  },
  "language_info": {
   "codemirror_mode": {
    "name": "ipython",
    "version": 3
   },
   "file_extension": ".py",
   "mimetype": "text/x-python",
   "name": "python",
   "nbconvert_exporter": "python",
   "pygments_lexer": "ipython3",
   "version": "3.12.1"
  }
 },
 "nbformat": 4,
 "nbformat_minor": 5
}
